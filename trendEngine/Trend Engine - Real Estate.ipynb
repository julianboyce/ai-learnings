{
 "cells": [
  {
   "cell_type": "code",
   "execution_count": 153,
   "id": "04f3a0d2",
   "metadata": {},
   "outputs": [],
   "source": [
    "# Please replace pip with your version of pip.\n",
    "# Tested with pip3.10\n",
    "\n",
    "# pip install selenium\n",
    "# pip install beautifulsoup4"
   ]
  },
  {
   "cell_type": "code",
   "execution_count": 154,
   "id": "5f9a042d",
   "metadata": {},
   "outputs": [],
   "source": [
    "import openai\n",
    "import pandas as pd\n",
    "import itertools\n",
    "\n",
    "from dotenv import dotenv_values\n",
    "config = dotenv_values(\"/Users/julianboyce/Documents/work/gpt/.env\")\n",
    "openai.api_key = config[\"OPENAI_API_KEY\"]"
   ]
  },
  {
   "cell_type": "code",
   "execution_count": 155,
   "id": "920f83b6",
   "metadata": {},
   "outputs": [],
   "source": [
    "# Sanity check your api key is here\n",
    "########### print(openai.api_key)"
   ]
  },
  {
   "cell_type": "code",
   "execution_count": 156,
   "id": "eb7210e0",
   "metadata": {},
   "outputs": [],
   "source": [
    "from selenium import webdriver\n",
    "from selenium.webdriver.chrome.options import Options\n",
    "\n",
    "options = Options()\n",
    "#options.headless = True\n",
    "#options.add_argument('--headless')\n",
    "options.add_argument(\"--window-size=1920,1200\")\n",
    "\n",
    "driver = webdriver.Chrome(options=options)\n",
    "\n",
    "driver.get(\"https://www.cbre.com/insights/briefs/global-real-estate-investment-continues-to-fall-in-q1\")\n",
    "#print(driver.page_source)  # prints the source HTML of the page\n",
    "\n",
    "page_source = driver.page_source\n",
    "\n",
    "driver.quit()"
   ]
  },
  {
   "cell_type": "code",
   "execution_count": 157,
   "id": "802a4e56",
   "metadata": {},
   "outputs": [],
   "source": [
    "from bs4 import BeautifulSoup\n",
    "\n",
    "# Assuming driver.page_source contains your HTML\n",
    "soup = BeautifulSoup(page_source, 'html.parser')\n",
    "\n",
    "# Find the <body> tag\n",
    "body = soup.find('body')\n",
    "\n",
    "# Now, `body` contains the contents of the <body> tag.\n",
    "# You can print it out:\n",
    "#print(body.prettify())\n",
    "\n",
    "body = str(body)"
   ]
  },
  {
   "cell_type": "code",
   "execution_count": 158,
   "id": "006579f1",
   "metadata": {},
   "outputs": [],
   "source": [
    "blacklist_tags = [\n",
    "    'script',    # JavaScript scripts\n",
    "    'noscript',  # Alternate content when JavaScript is not enabled\n",
    "    'style',     # CSS styles\n",
    "    'link',      # External resource links, often CSS\n",
    "    'meta',      # Metadata about the HTML document\n",
    "    'head',      # Container for all the head elements, may contain scripts, styles, meta information\n",
    "    'footer',    # Footer of the document or a section\n",
    "    'header',    # Container for introductory or navigation, can contain some data\n",
    "    'form',      # HTML form for user input\n",
    "    'iframe',    # Inline frame used to embed another document within the current HTML document\n",
    "    'svg',       # Container for SVG graphics\n",
    "    'path',      # SVG path\n",
    "    'nav',       # Navigation links\n",
    "    'input',     # Input control\n",
    "    'button',    # Clickable button\n",
    "    'textarea',  # Multiline input control\n",
    "    'select',    # Drop-down list\n",
    "    'option',    # Option in a drop-down list\n",
    "    'label'      # Caption for an item in a user interface\n",
    "]"
   ]
  },
  {
   "cell_type": "code",
   "execution_count": 159,
   "id": "11f786d5",
   "metadata": {},
   "outputs": [],
   "source": [
    "def removeUnwantedTags(soup):\n",
    "    # Remove unwanted tags\n",
    "    for tag in soup.find_all(blacklist_tags):\n",
    "        tag.decompose()  # remove tag and its contents\n",
    "\n",
    "    # Cleaned text\n",
    "    content = soup.get_text(strip=True, separator='####')\n",
    "    return content"
   ]
  },
  {
   "cell_type": "code",
   "execution_count": 160,
   "id": "dc5b09bd",
   "metadata": {},
   "outputs": [],
   "source": [
    "parsed_content = removeUnwantedTags(soup)"
   ]
  },
  {
   "cell_type": "code",
   "execution_count": 161,
   "id": "5e8ecca6",
   "metadata": {},
   "outputs": [],
   "source": [
    "#parsed_content"
   ]
  },
  {
   "cell_type": "code",
   "execution_count": 162,
   "id": "09ce7569",
   "metadata": {},
   "outputs": [],
   "source": [
    "def removeShortTextEntries(parsed_content, length):\n",
    "    # Split the text into segments based on '<<>>' delimiter\n",
    "    segments = parsed_content.split('####')\n",
    "\n",
    "    # Rebuild the text by including only segments that have 100 characters or more\n",
    "    # or are the first segment\n",
    "    result = ''\n",
    "    for segment in segments[0:]:\n",
    "        if len(segment) >= length:\n",
    "            # Debug the length vs. quality of text\n",
    "            #print(segment)\n",
    "            #print(len(segment))\n",
    "            result += '####' + segment\n",
    "        else:\n",
    "            result += ''\n",
    "\n",
    "    return result\n",
    "    \n",
    "    "
   ]
  },
  {
   "cell_type": "code",
   "execution_count": 163,
   "id": "02f6e014",
   "metadata": {},
   "outputs": [],
   "source": [
    "short_body = removeShortTextEntries(parsed_content, 100)"
   ]
  },
  {
   "cell_type": "code",
   "execution_count": 164,
   "id": "28fee281",
   "metadata": {},
   "outputs": [],
   "source": [
    "# short_body"
   ]
  },
  {
   "cell_type": "code",
   "execution_count": 165,
   "id": "4663f650",
   "metadata": {},
   "outputs": [],
   "source": [
    "from f1_utilities import WebSection\n",
    "from typing import Dict, List\n",
    "\n",
    "### Create a list of the body\n",
    "sections = short_body.split('####')\n",
    "\n",
    "webSections: List[WebSection] = []\n",
    "## Remove any blank entries\n",
    "webSections = [WebSection(text=item) for item in sections if item]"
   ]
  },
  {
   "cell_type": "code",
   "execution_count": 166,
   "id": "7a33f811",
   "metadata": {},
   "outputs": [
    {
     "data": {
      "text/plain": [
       "[WebSection(text='Global commercial real estate investment volume fell by 55% year-over-year in Q1 2023 to US$147 billion. Volume fell by 56% in the Americas, 64% in Europe and 20% in Asia-Pacific.'),\n",
       " WebSection(text='Investment totals for all property sectors fell year-over-year in Q1. Multifamily and office fell the most (-64%) and retail the least (-32%).'),\n",
       " WebSection(text='High interest rates, tight credit conditions and the prospect of a moderate recession in the U.S. will further reduce commercial real estate investment activity in 2023. However, activity should begin to pick up later in the year as inflation falls and economic uncertainty subsides.'),\n",
       " WebSection(text='Due to high interest rates and slow economic growth, CBRE forecasts that global investment volume will decrease by 26% in 2023.'),\n",
       " WebSection(text='Global commercial real estate investment fell by 55% year-over-year in Q1 to US$147 billion. Investment fell by 56% in the Americas, 64% in Europe and 20% in Asia-Pacific. High interest rates, tight credit conditions and a worsening economic outlook were largely to blame for less investment activity.'),\n",
       " WebSection(text='The multifamily sector attracted the most investment in Q1 with $34 billion, albeit down 64% from a year ago. Industrial investment fell by 55% year-over-year to US$33 billion, while office investment fell 64% to US$31 billion. Retail investment fell by 32% to US$29 billion.'),\n",
       " WebSection(text='Investment volume in the Americas fell by 56% year-over-year in Q1 to US$86 billion, as high interest rates, tight lending conditions and an uncertain economic outlook weakened capital markets activity.'),\n",
       " WebSection(text='The multifamily sector had the most investment in Q1 with US$25 billion, a 64% year-over-year decline. Multifamily fundamentals remain historically strong despite slowing rent growth and increasing vacancy. While CBRE does not expect a significant downturn in the sector, certain value-add properties may become distressed throughout the year due to rising debt service costs.'),\n",
       " WebSection(text='Although industrial investment in the Americas fell by 49% year-over-year to US$23 billion, there is still strong investor interest in industrial assets due to certain secular trends, including e-commerce growth and the reshoring of manufacturing operations. Additionally, a decline in new construction projects should strengthen industrial fundamentals in coming years.'),\n",
       " WebSection(text='Office investment in the Americas fell by 71% year-over-year in Q1 to US$11 billion, largely due to uncertainty about future occupier demand and tight credit conditions. While investors still appear interested in high-quality office assets, less-desirable Class B and C assets will suffer over the medium-term.'),\n",
       " WebSection(text='Retail investment in the Americas fell by 32% year-over-year in Q1 to US$18 billion. Nearly half of the total was from a single transaction: the private takeover of Store Capital REIT’s portfolio for US$8.5 billion. When excluding entity-level transactions, retail investment volume fell by 53% year-over-year. Relatively strong retail fundamentals could face headwinds as consumer spending weakens throughout the year.'),\n",
       " WebSection(text='European investment decreased by 64% year-over-year in Q1 to US$37 billion due to rising interest rates and economic uncertainty.'),\n",
       " WebSection(text='Office investment in Europe fell by 74% year-over-year in Q1 to US$9 billion. Despite a relatively strong return to office, Europe is seeing a bifurcation in the office market with investors mostly targeting higher-quality assets.'),\n",
       " WebSection(text='Industrial investment fell by 70% year-over-year in Europe to US$6 billion. Despite a slowdown in leasing activity, CBRE expects continued investor demand for industrial properties due to relatively strong overall fundamentals.'),\n",
       " WebSection(text='European retail investment fell by 46% year-over-year in Q1 to US$7 billion. Although high inflation continues to weigh on consumers, an increase in international tourism could boost the sector.'),\n",
       " WebSection(text='Multifamily investment in Europe fell by 63% year-over-year in Q1 to US$8 billion. Although rising debt costs weakened demand, CBRE expects the sector will remain resilient due to strong fundamentals.'),\n",
       " WebSection(text='Asia-Pacific (APAC) investment volume fell by 20% year-over-year in Q1 to US$24 billion. Strong investment activity in Japan and mainland China led to APAC having the smallest decline in Q1 investment volume of the three global regions.'),\n",
       " WebSection(text='Office investment in APAC fell by 18% year-over-year in Q1 to US$11 billion. Japan and mainland China accounted for the bulk of office investment in Q1 with investors preferring Tier 1 cities in those countries. Investor interest in APAC office assets is expected to remain strong given the relatively high rate of return to the office in the region.'),\n",
       " WebSection(text='Industrial investment in APAC decreased by 43% year-over-year in Q1 to US$3 billion, largely due to limited availability of prime assets and a slowdown in e-commerce growth. Markets with low vacancy, such as Japan and Australia, likely will attract investor interest throughout the year.'),\n",
       " WebSection(text='APAC retail investment in Q1 increased by 12% year-over-year to US$5 billion. Activity was boosted by deals in Singapore and Hong Kong. Increasing regional tourism should boost prime retail assets in major cities and garner investor attention.'),\n",
       " WebSection(text='We expect that a worsening macroeconomic outlook, tight credit conditions and financial market volatility will weaken real estate fundamentals and investment activity in Q2 and Q3. For the full year, CBRE forecasts a 26% reduction in global investment volume, with decreases of 27% in the Americas, 30% in Europe and 5% to 10% in APAC.'),\n",
       " WebSection(text='As economic conditions stabilize and a clearer outlook emerges for central bank policy, we expect commercial real estate investment volume will begin to improve in Q4.'),\n",
       " WebSection(text='By clicking “Accept All Cookies”, you agree to the storing of cookies on your device to enhance site navigation, analyze site usage, and assist in our marketing efforts.')]"
      ]
     },
     "execution_count": 166,
     "metadata": {},
     "output_type": "execute_result"
    }
   ],
   "source": [
    "webSections"
   ]
  },
  {
   "cell_type": "markdown",
   "id": "5eb77386",
   "metadata": {},
   "source": [
    "### Cost Estimation for the embeddings"
   ]
  },
  {
   "cell_type": "code",
   "execution_count": 167,
   "id": "d214664d",
   "metadata": {},
   "outputs": [
    {
     "name": "stdout",
     "output_type": "stream",
     "text": [
      "Estimated Cost $0.00048\n"
     ]
    }
   ],
   "source": [
    "import tiktoken\n",
    "\n",
    "chat_model = \"gpt-3.5-turbo\"\n",
    "embedding_enc = tiktoken.encoding_for_model(\"text-embedding-ada-002\")\n",
    "enc = tiktoken.encoding_for_model(chat_model)\n",
    "\n",
    "total_tokens = sum([len(embedding_enc.encode(str(section))) for section in sections])\n",
    "\n",
    "# $0.0004 per 1000 tokens\n",
    "cost = total_tokens * (0.0004 / 1000)\n",
    "print(f\"Estimated Cost ${cost:.5f}\")"
   ]
  },
  {
   "cell_type": "code",
   "execution_count": 168,
   "id": "bb32f509",
   "metadata": {},
   "outputs": [
    {
     "name": "stdout",
     "output_type": "stream",
     "text": [
      "Cached result found for 980adebfda141f42bb934d540d7d7ccd57390f7e55fc3b6bb12f574b1524d1be. Returning it.\n",
      "Cached result found for 107f47120ae4108a4d5c7ceae53ec828b7324c01eb26eeb7b452863d5b01c427. Returning it.\n",
      "Cached result found for d33088522803d5039024a5256a7a8e1731cf3ca6fea907b324683d5087df1b98. Returning it.\n",
      "Cached result found for 7f983fcb232cdbeda6488d103b9c3dccdb181013a86f08b983aae20c90470fd4. Returning it.\n",
      "Cached result found for 0a5c4d3d2575f6448151c7c56fe6d340e03d7e93bef99bacc43956641b8eda7e. Returning it.\n",
      "Cached result found for 9f4987d0bd8fd7f11aa29f1ed807efdc115bf47ae2d1488e94ae726f55d27b66. Returning it.\n",
      "Cached result found for 1bf5dfd5a296609395793bba3689d0936e7643096759c6081cab6134c189b091. Returning it.\n",
      "Cached result found for 00e1744d33e0292c6688fbf1a08ca26e630b269619ba4a29629b65237b4b7c87. Returning it.\n",
      "Cached result found for cb93ebb041365862d0c61e31933a54e6efb7086c86f7af21ca7ea0c3170c0915. Returning it.\n",
      "Cached result found for 13ad96bc87ab8ee60d7831ec343260bc131c3c86210e0784ddfb476714f1ad63. Returning it.\n",
      "Cached result found for 7472a9fd35d3fb2d031c9544e0ff4f92a5189901541fdceb8dfab0e610069b3f. Returning it.\n",
      "Cached result found for a62ac4691870dc24ffacbc70913ba9d41f7db2b9f6c6f271d5c420bd97c47ad8. Returning it.\n",
      "Cached result found for dfb4547330eafaf54554a9721e71bee3723f1356026b7688b9cfd8ed063dbfe1. Returning it.\n",
      "Cached result found for a15c7a3c79857840db3ca3e93034950f1d73419607735213a1ba04e912cad82f. Returning it.\n",
      "Cached result found for 290a88ca41fc96b26da8a07852cdbe3e203a99024f4a8b8888caa3fc80e12c2f. Returning it.\n",
      "Cached result found for ac22e7bf76674cb563312d2daa9bebf8e2d8972c0b402872b8f91ff3f3ef6a81. Returning it.\n",
      "Cached result found for 267ff91882c4028a809089cb973f7332f9b1b45cb18a5733e0e269349974fbb9. Returning it.\n",
      "Cached result found for 3946d18ce207baa8deef312d2e6b9413323676e5d4acb28611185cef2bf9f3eb. Returning it.\n",
      "Cached result found for dcd1dab69980348f2028f7609d1e4626fb295e8487878a641b6c2b4dc69c004c. Returning it.\n",
      "Cached result found for 0301c6ba237676aff51be0483139ea740adc7840fccfded3aa9fd2702845dfba. Returning it.\n",
      "Cached result found for 96d7f66c58a20e4cf8a79710d881a67922b684fe9eb9ba266a86456369f9cf32. Returning it.\n",
      "Cached result found for 9a3660b558e15c9e59850caf918d8671b5e099847272a7f4b91f77e07539796b. Returning it.\n",
      "Cached result found for 06b14016ed351aea0e6dd24a63566c481ce81bdd232c5582591d47a0fe343577. Returning it.\n"
     ]
    }
   ],
   "source": [
    "from utilities import num_tokens_from_messages, get_embedding, get_n_nearest_neighbors, memoize_to_sqlite\n",
    "\n",
    "embeddings: Dict[WebSection, List[float]] = {\n",
    "    section: get_embedding(section) for section in sections if section\n",
    "}"
   ]
  },
  {
   "cell_type": "code",
   "execution_count": 169,
   "id": "bf0aefe6",
   "metadata": {},
   "outputs": [],
   "source": [
    "#embeddings"
   ]
  },
  {
   "cell_type": "code",
   "execution_count": 170,
   "id": "e9500f1f",
   "metadata": {},
   "outputs": [],
   "source": [
    "def get_messages(context: List[WebSection], question: str) -> List[Dict[str, str]]:\n",
    "    context_str = \"\\n\\n\".join([f\"Body:\\n{x}\" for x in context])\n",
    "    return [\n",
    "        {\"role\": \"system\", \"content\": \"\"\"\n",
    "You will receive a question from the user and some context to help you answer the question.\n",
    "\n",
    "Evaluate the context and provide an answer if you can confidently answer the question.\n",
    "\n",
    "If you are unable to provide a confident response, kindly state that it is the case and explain the reason.\n",
    "\n",
    "Prioritize offering an \"I don't know\" response over conveying potentially false information.\n",
    "\n",
    "The user will only see your response and not the context you've been provided. Thus, respond in precise detail, directly repeating the information that you're referencing from the context.\n",
    "\"\"\".strip()},\n",
    "        {\"role\": \"user\", \"content\": f\"\"\"\n",
    "Using the following information as context, I'd like you to answer a question.\n",
    "\n",
    "{context_str}\n",
    "\n",
    "Please answer the following question: {question}\n",
    "\"\"\".strip()}\n",
    "    ]"
   ]
  },
  {
   "cell_type": "code",
   "execution_count": 171,
   "id": "dd6a286a",
   "metadata": {},
   "outputs": [],
   "source": [
    "from typing import Optional\n",
    "\n",
    "\n",
    "MAX_CONTEXT_WINDOW = 4097\n",
    "MINIMUM_RESPONSE_SPACE = 1000\n",
    "MAX_PROMPT_SIZE = MAX_CONTEXT_WINDOW - MINIMUM_RESPONSE_SPACE\n",
    "\n",
    "\n",
    "def ask_embedding_store(question: str, embeddings: Dict[WebSection, List[float]], max_documents: int) -> str:\n",
    "    \"\"\"\n",
    "    Fetch necessary context from our embedding store, striving to fit the top max_documents\n",
    "    into the context window (or fewer if the total token count exceeds the limit)\n",
    "\n",
    "    :param question: The question to ask\n",
    "    :param embeddings: A dictionary of Section objects to their corresponding embeddings\n",
    "    :param max_documents: The maximum number of documents to use as context\n",
    "    :return: GPT's response to the question given context provided in our embedding store\n",
    "    \"\"\"\n",
    "    query_embedding = get_embedding(question)\n",
    "\n",
    "    nearest_neighbors = get_n_nearest_neighbors(query_embedding, embeddings, max_documents)\n",
    "    messages: Optional[List[Dict[str, str]]] = None\n",
    "\n",
    "    base_token_count = num_tokens_from_messages(get_messages([], question), chat_model)\n",
    "#    print(nearest_neighbors[0])\n",
    "    token_counts = [len(enc.encode(document.replace(\"\\n\", \" \"))) for document, _ in nearest_neighbors]\n",
    "    cumulative_token_counts = list(itertools.accumulate(token_counts))\n",
    "    indices_within_limit = [True for x in cumulative_token_counts if x <= (MAX_PROMPT_SIZE - base_token_count)]\n",
    "    most_messages_we_can_fit = len(indices_within_limit)\n",
    "\n",
    "    context = [x[0] for x in nearest_neighbors[: most_messages_we_can_fit + 1]]\n",
    "\n",
    "#     debug_str = \"\\n\".join([f\"{x[0].location}: {x[1]}\" for x in nearest_neighbors[: most_messages_we_can_fit + 1]])\n",
    "#     print(f\"Using {most_messages_we_can_fit} documents as context:\\n\" + debug_str)\n",
    "    messages = get_messages(context, question)\n",
    "\n",
    "#     print(f\"Prompt: {messages[-1]['content']}\")\n",
    "    result = openai.ChatCompletion.create(model=chat_model, messages=messages)\n",
    "    return result.choices[0].message[\"content\"]"
   ]
  },
  {
   "cell_type": "code",
   "execution_count": 172,
   "id": "1c54fd62",
   "metadata": {},
   "outputs": [
    {
     "name": "stdout",
     "output_type": "stream",
     "text": [
      "Cached result found for 590bce5bce31bf7cf431942695cc4b4ae3d6a74bbba9654f7127b71a69127694. Returning it.\n"
     ]
    },
    {
     "data": {
      "text/plain": [
       "'In Q1, global commercial real estate investment volume fell by 55% year-over-year to US$147 billion, with the Americas experiencing a 56% decrease, Europe experiencing a 64% decrease, and the Asia-Pacific region experiencing a 20% decrease. The decrease in investment activity is largely attributed to high interest rates, tight credit conditions, and a worsening economic outlook. All property sectors experienced declines in investment volume with multifamily and office sectors being the most affected, and retail being the least affected. CBRE forecasts a 26% reduction in global investment volume for the full year, with the Americas and Europe having larger decreases than APAC. Specifically, multifamily investment in Europe fell by 63% year-over-year in Q1 to US$8 billion, but it is expected to remain resilient due to strong fundamentals.'"
      ]
     },
     "execution_count": 172,
     "metadata": {},
     "output_type": "execute_result"
    }
   ],
   "source": [
    "ask_embedding_store(\"Can you give me a summary of the Q1 global real estate markets\", embeddings, 5)"
   ]
  },
  {
   "cell_type": "code",
   "execution_count": null,
   "id": "fd8710d7",
   "metadata": {},
   "outputs": [],
   "source": []
  }
 ],
 "metadata": {
  "kernelspec": {
   "display_name": "Python 3 (ipykernel)",
   "language": "python",
   "name": "python3"
  },
  "language_info": {
   "codemirror_mode": {
    "name": "ipython",
    "version": 3
   },
   "file_extension": ".py",
   "mimetype": "text/x-python",
   "name": "python",
   "nbconvert_exporter": "python",
   "pygments_lexer": "ipython3",
   "version": "3.10.5"
  }
 },
 "nbformat": 4,
 "nbformat_minor": 5
}
