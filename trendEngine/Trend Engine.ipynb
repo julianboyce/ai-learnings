{
 "cells": [
  {
   "cell_type": "code",
   "execution_count": 1,
   "id": "5f9a042d",
   "metadata": {},
   "outputs": [],
   "source": [
    "import openai\n",
    "import pandas as pd\n",
    "import itertools\n",
    "\n",
    "from dotenv import dotenv_values\n",
    "config = dotenv_values(\"/Users/julianboyce/Documents/work/gpt/.env\")\n",
    "openai.api_key = config[\"OPENAI_API_KEY\"]"
   ]
  },
  {
   "cell_type": "code",
   "execution_count": 2,
   "id": "920f83b6",
   "metadata": {},
   "outputs": [],
   "source": [
    "# Sanity check your api key is here\n",
    "########### print(openai.api_key)"
   ]
  },
  {
   "cell_type": "code",
   "execution_count": 3,
   "id": "ffc1a113",
   "metadata": {},
   "outputs": [],
   "source": [
    "import mechanicalsoup\n",
    "\n",
    "# Specify the URL you want to scrape\n",
    "url = 'https://www.the-atlantic-pacific.com/2023/05/30/dresses-with-sandals/'\n",
    "\n",
    "# Create a browser object\n",
    "browser = mechanicalsoup.StatefulBrowser()\n",
    "\n",
    "# Use the browser to get the page\n",
    "browser.open(url)\n",
    "\n",
    "# Parse the page's HTML content with BeautifulSoup\n",
    "page = browser.page\n",
    "\n",
    "# Don't forget to close the browser when you are done\n",
    "browser.close()"
   ]
  },
  {
   "cell_type": "code",
   "execution_count": 4,
   "id": "60ad8950",
   "metadata": {},
   "outputs": [],
   "source": [
    "#page"
   ]
  },
  {
   "cell_type": "code",
   "execution_count": 5,
   "id": "48208b3d",
   "metadata": {},
   "outputs": [
    {
     "name": "stdout",
     "output_type": "stream",
     "text": [
      "Title: Dresses with Sandals: How to Create a Chic Summer Outfit\n"
     ]
    }
   ],
   "source": [
    "# Now you can find elements using BeautifulSoup syntax\n",
    "# For example, let's say you want to scrape the title of the post\n",
    "title = page.find(\"h1\").get_text()\n",
    "print(\"Title:\", title)"
   ]
  },
  {
   "cell_type": "code",
   "execution_count": 6,
   "id": "38a3d73a",
   "metadata": {},
   "outputs": [],
   "source": [
    "# Now you can find elements using BeautifulSoup syntax\n",
    "# For example, let's say you want to scrape the title of the post\n",
    "body = page.find(\"body\").get_text()\n",
    "# print(\"Title:\", body)"
   ]
  },
  {
   "cell_type": "code",
   "execution_count": 7,
   "id": "7237aea1",
   "metadata": {},
   "outputs": [],
   "source": [
    "import re\n",
    "# Remove consecutive newlines if there are more than 2\n",
    "cleaned_body = re.sub(r'\\n{1,}', '<<>>', body)"
   ]
  },
  {
   "cell_type": "code",
   "execution_count": 8,
   "id": "4158e558",
   "metadata": {},
   "outputs": [],
   "source": [
    "# cleaned_body"
   ]
  },
  {
   "cell_type": "code",
   "execution_count": 9,
   "id": "09ce7569",
   "metadata": {},
   "outputs": [],
   "source": [
    "def removeShortTextEntries(cleaned_body):\n",
    "    # Split the text into segments based on '<<>>' delimiter\n",
    "    segments = cleaned_body.split('<<>>')\n",
    "\n",
    "    # Rebuild the text by including only segments that have 20 characters or more\n",
    "    # or are the first segment\n",
    "    result = segments[0]\n",
    "    for segment in segments[1:]:\n",
    "        if len(segment) >= 100:\n",
    "            result += '####' + segment\n",
    "        else:\n",
    "            result += ''\n",
    "\n",
    "    return result\n",
    "    \n",
    "    "
   ]
  },
  {
   "cell_type": "code",
   "execution_count": 10,
   "id": "9026f66f",
   "metadata": {},
   "outputs": [],
   "source": [
    "short_body = removeShortTextEntries(cleaned_body)"
   ]
  },
  {
   "cell_type": "code",
   "execution_count": 11,
   "id": "64c1e2d8",
   "metadata": {},
   "outputs": [
    {
     "data": {
      "text/plain": [
       "'####An easy sundress and a chic pair of sandals will forever be a look that just screams “summer”. No matter your age nor your location, pairing dresses with sandals is simply a no-brainer. You know I love a good styling session – my posts on how to style wide-leg pants and how to style a midi skirt are evidence of this. So of course I couldn’t resist putting together some favorite dress and sandal combinations for summer. Today I’m highlighting everything from trendy platform sandals with mod dresses to minimalist chic sandals with slip dresses. There’s a little bit of everything because we all know sticking to just one style wouldn’t be any fun!####While you know I love to mix and match separates, dresses are a must-have for me, especially when the temps soar. Why? Simply put, dresses are so easy! You can quickly throw on a great statement earring or some simple layered necklaces and a great flat, and just like that, your outfit is complete. This combination also makes packing a breeze. I am ramping up my travel this summer and carrying along a suitcase full of dresses with sandals makes getting ready to jet even easier.####Okay, now for the fun part. I’m always inspired by the fashion at the start of each season. The excitement of wearing pieces that have been hiding in my closet, just waiting for the weather to change. And the thrill of seeing new collections launch from my favorite designers, both new and old. It all just makes me a little giddy, you know? This year is no exception and I’ve been swooning over so many pairings of dresses with sandals that have caught my eye!####First up, the sandal that I have been wearing the most – slide sandals. I decided to invest in this great pair of cream slide sandals this season and I have no regrets! Admittedly, I loved them so much that I went back for them in pink! I have been wearing my cream slides with this affordable midi dress (under $50!) and this beautiful embroidered mini dress. As for the pink slides, I’ve been pairing them with this fabulous striped cover-up, as seen here.####If you are looking for a more budget-friendly option, I highly suggest this classic pair of slide sandals. These cuties come in six colors (including an on-trend raffia option). Plus, they would look great with just about any summer outfit you can think of. If you want something a bit more feminine, I adore these raffia bow sandals (also available in leather). They would look stunning worn with this bold mini dress or this fun tiered midi dress! Last, but not least, if you are looking for a true statement slide, these wavy sandals are my current favorite – and they’re on sale. I love how they mimic a scallop, making them look divine paired with any scallop-detailed dress, like this cream midi dress, which is also on sale!####Next up, let’s talk about minimalism for summer. While I consider myself a maximalist (is anyone surprised?), I do try to tone it down every once in a while! And this summer I happen to be loving minimalist sandals. I think this black pearl sandal was the style that got me hooked on this trend. Right now, my current favorites are this suede pair, these black kitten-heels, these simple tan sandals and these everyday black sandals.####There are endless combinations of dresses with sandals that can be created with these minimalist styles. Personally, I love pairing them with dresses that are streamlined, such as a simple slip dress. Some of my current favorites are this black and white polka dot dress, this lace and satin slipdress (under $100) and this asymmetrical floral dress, which is an investment, but so oh-so-stunning!####One of my recent favorite trends is the return of the platform! I love the additional height these sandals provide and how it elongates every look. Plus, these sandals look amazing paired with mod dress silhouettes, which also happen to be trending right now. This pairing is such a fun combination of dresses with sandals!####This pair of neutral platform sandals have been on repeat for me. I love the woven raffia-like texture, plus the color matches everything! Chances are you’ve seen me wear them this summer with a variety of outfits including this green pants outfit, this mod mini dress, this purple caftan, and this elegant pink dress. I can’t emphasize enough how much I love them!####Another current favorite pair of sandals are these orange platforms, which I recently styled with this fun and bold dress while in Paris. I’ve also been eyeing these white platforms – I love the contrasting woven jute heel against the leather on top. And these black braided platform sandals that I bought last month are currently on sale for under $125! I wore them with this tan and black shirt dress from my latest collection with Tuckernuck. ####Although this post is all about pairing dresses with sandals, I would be remiss not to mention the versatility of these pieces. It’s no secret that not only do these items pair well together, but mixing and matching them with other wardrobe staples allows you to get the most bang for your buck. Here are a few ways I love to wear dresses and sandals separately – you can click on each for outfit inspiration!'"
      ]
     },
     "execution_count": 11,
     "metadata": {},
     "output_type": "execute_result"
    }
   ],
   "source": [
    "short_body"
   ]
  },
  {
   "cell_type": "code",
   "execution_count": 12,
   "id": "cb0cd244",
   "metadata": {},
   "outputs": [],
   "source": [
    "from f1_utilities import WebSection\n",
    "from typing import Dict, List\n",
    "\n",
    "### Create a list of the body\n",
    "sections = short_body.split('####')\n",
    "\n",
    "webSections: List[WebSection] = []\n",
    "## Remove any blank entries\n",
    "webSections = [WebSection(text=item) for item in sections if item]"
   ]
  },
  {
   "cell_type": "code",
   "execution_count": 13,
   "id": "f5db334f",
   "metadata": {},
   "outputs": [
    {
     "data": {
      "text/plain": [
       "[WebSection(text='An easy sundress and a chic pair of sandals will forever be a look that just screams “summer”. No matter your age nor your location, pairing dresses with sandals is simply a no-brainer. You know I love a good styling session – my posts on how to style wide-leg pants and how to style a midi skirt are evidence of this. So of course I couldn’t resist putting together some favorite dress and sandal combinations for summer. Today I’m highlighting everything from trendy platform sandals with mod dresses to minimalist chic sandals with slip dresses. There’s a little bit of everything because we all know sticking to just one style wouldn’t be any fun!'),\n",
       " WebSection(text='While you know I love to mix and match separates, dresses are a must-have for me, especially when the temps soar. Why? Simply put, dresses are so easy! You can quickly throw on a great statement earring or some simple layered necklaces and a great flat, and just like that, your outfit is complete. This combination also makes packing a breeze. I am ramping up my travel this summer and carrying along a suitcase full of dresses with sandals makes getting ready to jet even easier.'),\n",
       " WebSection(text='Okay, now for the fun part. I’m always inspired by the fashion at the start of each season. The excitement of wearing pieces that have been hiding in my closet, just waiting for the weather to change. And the thrill of seeing new collections launch from my favorite designers, both new and old. It all just makes me a little giddy, you know? This year is no exception and I’ve been swooning over so many pairings of dresses with sandals that have caught my eye!'),\n",
       " WebSection(text='First up, the sandal that I have been wearing the most – slide sandals. I decided to invest in this great pair of cream slide sandals this season and I have no regrets! Admittedly, I loved them so much that I went back for them in pink! I have been wearing my cream slides with this affordable midi dress (under $50!) and this beautiful embroidered mini dress. As for the pink slides, I’ve been pairing them with this fabulous striped cover-up, as seen here.'),\n",
       " WebSection(text='If you are looking for a more budget-friendly option, I highly suggest this classic pair of slide sandals. These cuties come in six colors (including an on-trend raffia option). Plus, they would look great with just about any summer outfit you can think of. If you want something a bit more feminine, I adore these raffia bow sandals (also available in leather). They would look stunning worn with this bold mini dress or this fun tiered midi dress! Last, but not least, if you are looking for a true statement slide, these wavy sandals are my current favorite – and they’re on sale. I love how they mimic a scallop, making them look divine paired with any scallop-detailed dress, like this cream midi dress, which is also on sale!'),\n",
       " WebSection(text='Next up, let’s talk about minimalism for summer. While I consider myself a maximalist (is anyone surprised?), I do try to tone it down every once in a while! And this summer I happen to be loving minimalist sandals. I think this black pearl sandal was the style that got me hooked on this trend. Right now, my current favorites are this suede pair, these black kitten-heels, these simple tan sandals and these everyday black sandals.'),\n",
       " WebSection(text='There are endless combinations of dresses with sandals that can be created with these minimalist styles. Personally, I love pairing them with dresses that are streamlined, such as a simple slip dress. Some of my current favorites are this black and white polka dot dress, this lace and satin slipdress (under $100) and this asymmetrical floral dress, which is an investment, but so oh-so-stunning!'),\n",
       " WebSection(text='One of my recent favorite trends is the return of the platform! I love the additional height these sandals provide and how it elongates every look. Plus, these sandals look amazing paired with mod dress silhouettes, which also happen to be trending right now. This pairing is such a fun combination of dresses with sandals!'),\n",
       " WebSection(text='This pair of neutral platform sandals have been on repeat for me. I love the woven raffia-like texture, plus the color matches everything! Chances are you’ve seen me wear them this summer with a variety of outfits including this green pants outfit, this mod mini dress, this purple caftan, and this elegant pink dress. I can’t emphasize enough how much I love them!'),\n",
       " WebSection(text='Another current favorite pair of sandals are these orange platforms, which I recently styled with this fun and bold dress while in Paris. I’ve also been eyeing these white platforms – I love the contrasting woven jute heel against the leather on top. And these black braided platform sandals that I bought last month are currently on sale for under $125! I wore them with this tan and black shirt dress from my latest collection with Tuckernuck. '),\n",
       " WebSection(text='Although this post is all about pairing dresses with sandals, I would be remiss not to mention the versatility of these pieces. It’s no secret that not only do these items pair well together, but mixing and matching them with other wardrobe staples allows you to get the most bang for your buck. Here are a few ways I love to wear dresses and sandals separately – you can click on each for outfit inspiration!')]"
      ]
     },
     "execution_count": 13,
     "metadata": {},
     "output_type": "execute_result"
    }
   ],
   "source": [
    "webSections"
   ]
  },
  {
   "cell_type": "markdown",
   "id": "5348c47f",
   "metadata": {},
   "source": [
    "### Cost Estimation for the embeddings"
   ]
  },
  {
   "cell_type": "code",
   "execution_count": 14,
   "id": "5fb76fac",
   "metadata": {},
   "outputs": [
    {
     "name": "stdout",
     "output_type": "stream",
     "text": [
      "Estimated Cost $0.00043\n"
     ]
    }
   ],
   "source": [
    "import tiktoken\n",
    "\n",
    "chat_model = \"gpt-3.5-turbo\"\n",
    "embedding_enc = tiktoken.encoding_for_model(\"text-embedding-ada-002\")\n",
    "enc = tiktoken.encoding_for_model(chat_model)\n",
    "\n",
    "total_tokens = sum([len(embedding_enc.encode(str(section))) for section in sections])\n",
    "\n",
    "# $0.0004 per 1000 tokens\n",
    "cost = total_tokens * (0.0004 / 1000)\n",
    "print(f\"Estimated Cost ${cost:.5f}\")"
   ]
  },
  {
   "cell_type": "code",
   "execution_count": 15,
   "id": "32acbd1d",
   "metadata": {},
   "outputs": [
    {
     "name": "stdout",
     "output_type": "stream",
     "text": [
      "Cached result found for 4130c940e29bb6082e14e95cee3647875c60a06b68f393f0584d4d4def53fccf. Returning it.\n",
      "Cached result found for 313efecf80bc91d8f874c1abbadac458f17e5f5ce7c4547b54a86f39a472e203. Returning it.\n",
      "Cached result found for 20cc511c75e5195625cf2c7ccf40ce467c6c5104fa41b76b3ccbe5bac83e268c. Returning it.\n",
      "Cached result found for d5dc51142d951f869b81cef80bf5bfe5209944ba340724038b7fc6e311eb3314. Returning it.\n",
      "Cached result found for ed5dda531bad7047ff25f41c7453360f6a8367735bb01a64fecb778256271b78. Returning it.\n",
      "Cached result found for 1313fe29741c73723d0032e2e3d6b2d9802e3a19d782caceb2e25adf1a244a78. Returning it.\n",
      "Cached result found for 0ccd8807773543e2dee6d68b1b539ea00be7cbd503fad0cd31b10d941bdefcd1. Returning it.\n",
      "Cached result found for b0f33c3d898c3aca8389172fe7082ac16eb4de77042c2d0cc36875c3f6a3f1bb. Returning it.\n",
      "Cached result found for de9e3f79a86f4b7f17f404b2380fdbb919c5a4d66b7e6dfd687ec2197cb95725. Returning it.\n",
      "Cached result found for cde2bc487fb3c6f592e40c4d8e17301680d907a20abe061a24fdacc5e485a6f0. Returning it.\n",
      "Cached result found for 335982feef5adfb44b1ba6528aa3fede6e409648f60749c47f3bcd13d3f187e3. Returning it.\n"
     ]
    }
   ],
   "source": [
    "from utilities import num_tokens_from_messages, get_embedding, get_n_nearest_neighbors, memoize_to_sqlite\n",
    "\n",
    "embeddings: Dict[WebSection, List[float]] = {\n",
    "    section: get_embedding(section) for section in sections if section\n",
    "}"
   ]
  },
  {
   "cell_type": "code",
   "execution_count": 16,
   "id": "8d7796f7",
   "metadata": {},
   "outputs": [],
   "source": [
    "# embeddings"
   ]
  },
  {
   "cell_type": "code",
   "execution_count": 17,
   "id": "b365749e",
   "metadata": {},
   "outputs": [],
   "source": [
    "def get_messages(context: List[WebSection], question: str) -> List[Dict[str, str]]:\n",
    "    context_str = \"\\n\\n\".join([f\"Body:\\n{x}\" for x in context])\n",
    "    return [\n",
    "        {\"role\": \"system\", \"content\": \"\"\"\n",
    "You will receive a question from the user and some context to help you answer the question.\n",
    "\n",
    "Evaluate the context and provide an answer if you can confidently answer the question.\n",
    "\n",
    "If you are unable to provide a confident response, kindly state that it is the case and explain the reason.\n",
    "\n",
    "Prioritize offering an \"I don't know\" response over conveying potentially false information.\n",
    "\n",
    "The user will only see your response and not the context you've been provided. Thus, respond in precise detail, directly repeating the information that you're referencing from the context.\n",
    "\"\"\".strip()},\n",
    "        {\"role\": \"user\", \"content\": f\"\"\"\n",
    "Using the following information as context, I'd like you to answer a question.\n",
    "\n",
    "{context_str}\n",
    "\n",
    "Please answer the following question: {question}\n",
    "\"\"\".strip()}\n",
    "    ]"
   ]
  },
  {
   "cell_type": "code",
   "execution_count": 18,
   "id": "dd6a286a",
   "metadata": {},
   "outputs": [],
   "source": [
    "from typing import Optional\n",
    "\n",
    "\n",
    "MAX_CONTEXT_WINDOW = 4097\n",
    "MINIMUM_RESPONSE_SPACE = 1000\n",
    "MAX_PROMPT_SIZE = MAX_CONTEXT_WINDOW - MINIMUM_RESPONSE_SPACE\n",
    "\n",
    "\n",
    "def ask_embedding_store(question: str, embeddings: Dict[WebSection, List[float]], max_documents: int) -> str:\n",
    "    \"\"\"\n",
    "    Fetch necessary context from our embedding store, striving to fit the top max_documents\n",
    "    into the context window (or fewer if the total token count exceeds the limit)\n",
    "\n",
    "    :param question: The question to ask\n",
    "    :param embeddings: A dictionary of Section objects to their corresponding embeddings\n",
    "    :param max_documents: The maximum number of documents to use as context\n",
    "    :return: GPT's response to the question given context provided in our embedding store\n",
    "    \"\"\"\n",
    "    query_embedding = get_embedding(question)\n",
    "\n",
    "    nearest_neighbors = get_n_nearest_neighbors(query_embedding, embeddings, max_documents)\n",
    "    messages: Optional[List[Dict[str, str]]] = None\n",
    "\n",
    "    base_token_count = num_tokens_from_messages(get_messages([], question), chat_model)\n",
    "#    print(nearest_neighbors[0])\n",
    "    token_counts = [len(enc.encode(document.replace(\"\\n\", \" \"))) for document, _ in nearest_neighbors]\n",
    "    cumulative_token_counts = list(itertools.accumulate(token_counts))\n",
    "    indices_within_limit = [True for x in cumulative_token_counts if x <= (MAX_PROMPT_SIZE - base_token_count)]\n",
    "    most_messages_we_can_fit = len(indices_within_limit)\n",
    "\n",
    "    context = [x[0] for x in nearest_neighbors[: most_messages_we_can_fit + 1]]\n",
    "\n",
    "#     debug_str = \"\\n\".join([f\"{x[0].location}: {x[1]}\" for x in nearest_neighbors[: most_messages_we_can_fit + 1]])\n",
    "#     print(f\"Using {most_messages_we_can_fit} documents as context:\\n\" + debug_str)\n",
    "    messages = get_messages(context, question)\n",
    "\n",
    "#     print(f\"Prompt: {messages[-1]['content']}\")\n",
    "    result = openai.ChatCompletion.create(model=chat_model, messages=messages)\n",
    "    return result.choices[0].message[\"content\"]"
   ]
  },
  {
   "cell_type": "code",
   "execution_count": 21,
   "id": "1c54fd62",
   "metadata": {},
   "outputs": [
    {
     "name": "stdout",
     "output_type": "stream",
     "text": [
      "Computing embedding for Can you tell me 3 popular types of sandals and exp\n"
     ]
    },
    {
     "data": {
      "text/plain": [
       "'Yes, based on the context provided, three popular types of sandals are:\\n\\n1. Slides: Slides are popular because they are easy to wear and can be versatile. They can be dressed up or down and come in various designs such as classic and feminine with bows. They are also available in different colors including on-trend raffia option and are budget-friendly.\\n\\n2. Minimalist sandals: This summer, minimalist sandals have become popular. This is because they offer simplicity and sleekness in an outfit, and can easily complement any outfit. Minimalist sandals come in various colors such as black and tan, with some having an extra detail like the black pearl sandal.\\n\\n3. Platforms: Platforms are another popular type of sandal because they can add height and elongate any look. They look great paired with mod dress silhouettes which are also trending at the moment. Platforms come in different styles including trendy ones and can be suitable for different age groups.'"
      ]
     },
     "execution_count": 21,
     "metadata": {},
     "output_type": "execute_result"
    }
   ],
   "source": [
    "ask_embedding_store(\"Can you tell me 3 popular types of sandals and explain why they are popular\", embeddings, 5)"
   ]
  },
  {
   "cell_type": "code",
   "execution_count": null,
   "id": "aaa587c3",
   "metadata": {},
   "outputs": [],
   "source": []
  },
  {
   "cell_type": "code",
   "execution_count": 8,
   "id": "85f73664",
   "metadata": {},
   "outputs": [],
   "source": []
  },
  {
   "cell_type": "code",
   "execution_count": null,
   "id": "fd8710d7",
   "metadata": {},
   "outputs": [],
   "source": []
  }
 ],
 "metadata": {
  "kernelspec": {
   "display_name": "Python 3 (ipykernel)",
   "language": "python",
   "name": "python3"
  },
  "language_info": {
   "codemirror_mode": {
    "name": "ipython",
    "version": 3
   },
   "file_extension": ".py",
   "mimetype": "text/x-python",
   "name": "python",
   "nbconvert_exporter": "python",
   "pygments_lexer": "ipython3",
   "version": "3.10.5"
  }
 },
 "nbformat": 4,
 "nbformat_minor": 5
}
